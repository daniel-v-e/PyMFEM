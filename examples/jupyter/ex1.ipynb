{
 "cells": [
  {
   "attachments": {},
   "cell_type": "markdown",
   "metadata": {},
   "source": [
    "## MFEM Example 1\n",
    "\n",
    "Adapted from [PyMFEM/ex1.py]( https://github.com/mfem/PyMFEM/blob/master/examples/ex1.py).\n",
    "Compare with the [original Example 1](https://github.com/mfem/mfem/blob/master/examples/ex1.cpp) in MFEM.\n",
    "\n",
    "This example code demonstrates the use of MFEM to define a simple finite element discretization of the Laplace problem\n",
    "\n",
    "\\begin{equation*}\n",
    "-\\Delta x = 1\n",
    "\\end{equation*}\n",
    "\n",
    "in a domain $\\Omega$ with homogeneous Dirichlet boundary conditions\n",
    "\n",
    "\\begin{equation*}\n",
    "x = 0\n",
    "\\end{equation*}\n",
    "\n",
    "on the boundary $\\partial \\Omega$.\n",
    "\n",
    "The problme is discretized on a computational mesh in either 2D or 3D using a finite elements space of the specified order (2 by default) resulting in the global sparse linear system\n",
    "\n",
    "\\begin{equation*}\n",
    "A X = B.\n",
    "\\end{equation*}\n",
    "\n",
    "The example highlights the use of mesh refinement, finite element grid functions, as well as linear and bilinear forms corresponding to the left-hand side and right-hand side of the\n",
    "discrete linear system. We also cover the explicit elimination of essential boundary conditions and using the GLVis tool for visualization."
   ]
  },
  {
   "cell_type": "code",
   "execution_count": 1,
   "metadata": {},
   "outputs": [],
   "source": [
    "# Requires pymfem and pyglvis see https://github.com/glvis/pyglvis\n",
    "import mfem.ser as mfem\n",
    "from glvis import glvis, to_stream"
   ]
  },
  {
   "cell_type": "code",
   "execution_count": 2,
   "metadata": {},
   "outputs": [
    {
     "name": "stdout",
     "output_type": "stream",
     "text": [
      "Size of the linear system: 441\n",
      "   Iteration :   0  (B r, r) = 0.00127274\n",
      "   Iteration :   1  (B r, r) = 0.00349488\n",
      "   Iteration :   2  (B r, r) = 0.00177954\n",
      "   Iteration :   3  (B r, r) = 0.00127536\n",
      "   Iteration :   4  (B r, r) = 0.000715054\n",
      "   Iteration :   5  (B r, r) = 0.000259268\n",
      "   Iteration :   6  (B r, r) = 9.09953e-05\n",
      "   Iteration :   7  (B r, r) = 9.86878e-06\n",
      "   Iteration :   8  (B r, r) = 1.00827e-06\n",
      "   Iteration :   9  (B r, r) = 3.5336e-07\n",
      "   Iteration :  10  (B r, r) = 2.78374e-08\n",
      "   Iteration :  11  (B r, r) = 5.71184e-09\n",
      "   Iteration :  12  (B r, r) = 4.61089e-10\n",
      "   Iteration :  13  (B r, r) = 7.13477e-11\n",
      "   Iteration :  14  (B r, r) = 5.73371e-11\n",
      "   Iteration :  15  (B r, r) = 1.75715e-11\n",
      "   Iteration :  16  (B r, r) = 8.13841e-13\n",
      "   Iteration :  17  (B r, r) = 1.67974e-13\n",
      "   Iteration :  18  (B r, r) = 3.59872e-14\n",
      "   Iteration :  19  (B r, r) = 1.89648e-14\n",
      "   Iteration :  20  (B r, r) = 2.07061e-14\n",
      "   Iteration :  21  (B r, r) = 3.14143e-15\n",
      "   Iteration :  22  (B r, r) = 5.9009e-16\n",
      "Average reduction factor = 0.524428\n"
     ]
    }
   ],
   "source": [
    "# Load the mesh from a local file\n",
    "# meshfile = '../../mfem/data/star.mesh'\n",
    "# mesh = mfem.Mesh(meshfile)\n",
    "\n",
    "# Alternatively, create a simple square mesh and refine it\n",
    "mesh = mfem.Mesh(5, 5, \"TRIANGLE\")\n",
    "mesh.UniformRefinement()\n",
    "\n",
    "# Create H1 finite element function space\n",
    "fec = mfem.H1_FECollection(2, mesh.Dimension()) # order=2\n",
    "fespace = mfem.FiniteElementSpace(mesh, fec)      \n",
    "\n",
    "# Determine essential degrees of freedom (the whole boundary here)\n",
    "ess_tdof_list = mfem.intArray()\n",
    "ess_bdr = mfem.intArray([1]*mesh.bdr_attributes.Size())\n",
    "fespace.GetEssentialTrueDofs(ess_bdr, ess_tdof_list)\n",
    "\n",
    "# Define Bilinear and Linear forms for the Laplace problem -Δu=1\n",
    "one = mfem.ConstantCoefficient(1.0)\n",
    "a = mfem.BilinearForm(fespace)\n",
    "a.AddDomainIntegrator(mfem.DiffusionIntegrator(one))\n",
    "a.Assemble()\n",
    "b = mfem.LinearForm(fespace)\n",
    "b.AddDomainIntegrator(mfem.DomainLFIntegrator(one))\n",
    "b.Assemble()\n",
    "\n",
    "# Create a grid function for the solution and initialize with 0\n",
    "x = mfem.GridFunction(fespace);\n",
    "x.Assign(0.0)\n",
    "\n",
    "# Form the linear system, AX=B, for the FEM discretization\n",
    "A = mfem.OperatorPtr()\n",
    "B = mfem.Vector()\n",
    "X = mfem.Vector()\n",
    "a.FormLinearSystem(ess_tdof_list, x, b, A, X, B);\n",
    "print(\"Size of the linear system: \" + str(A.Height()))\n",
    "\n",
    "# Solve the system using PCG solver and get the solution in x\n",
    "Asm = mfem.OperatorHandle2SparseMatrix(A)\n",
    "Msm = mfem.GSSmoother(Asm)\n",
    "mfem.PCG(Asm, Msm, B, X, 1, 200, 1e-12, 0.0)\n",
    "a.RecoverFEMSolution(X, b, x)"
   ]
  },
  {
   "attachments": {},
   "cell_type": "markdown",
   "metadata": {},
   "source": [
    "### Plot the Solution with GLVis"
   ]
  },
  {
   "cell_type": "code",
   "execution_count": 7,
   "metadata": {},
   "outputs": [
    {
     "data": {
      "text/plain": [
       "<Figure size 640x480 with 0 Axes>"
      ]
     },
     "metadata": {},
     "output_type": "display_data"
    }
   ],
   "source": [
    "import matplotlib.pyplot as plt\n",
    "\n",
    "# Plot the mesh + solution (all GLVis keys and mouse commands work)\n",
    "fig = glvis((mesh, x), 400, 400)\n",
    "\n",
    "# Save the plot to ex1-1.png\n",
    "plt.savefig('ex1-1.png')\n"
   ]
  },
  {
   "cell_type": "code",
   "execution_count": 4,
   "metadata": {},
   "outputs": [
    {
     "data": {
      "application/vnd.jupyter.widget-view+json": {
       "model_id": "9e064ea2f68e4406a1431aae200397cf",
       "version_major": 2,
       "version_minor": 0
      },
      "text/plain": [
       "glvis(data_str='MFEM mesh v1.0\\n\\n#\\n# MFEM Geometry Types (see mesh/geom.hpp):\\n#\\n# POINT       = 0\\n# SEGME…"
      ]
     },
     "execution_count": 4,
     "metadata": {},
     "output_type": "execute_result"
    }
   ],
   "source": [
    "# Plot the mesh only\n",
    "glvis(mesh)"
   ]
  },
  {
   "cell_type": "code",
   "execution_count": 5,
   "metadata": {},
   "outputs": [
    {
     "data": {
      "application/vnd.jupyter.widget-view+json": {
       "model_id": "8a1e989d51e1430d809e269786f53710",
       "version_major": 2,
       "version_minor": 0
      },
      "text/plain": [
       "glvis(data_str='MFEM mesh v1.0\\n\\n#\\n# MFEM Geometry Types (see mesh/geom.hpp):\\n#\\n# POINT       = 0\\n# SEGME…"
      ]
     },
     "execution_count": 5,
     "metadata": {},
     "output_type": "execute_result"
    }
   ],
   "source": [
    "# Visualization with additional GLVis keys\n",
    "g = glvis(to_stream(mesh,x) + 'keys ARjlmcbp*******')\n",
    "g.set_size(600, 400)\n",
    "g"
   ]
  }
 ],
 "metadata": {
  "kernelspec": {
   "display_name": "Python 3",
   "language": "python",
   "name": "python3"
  },
  "language_info": {
   "codemirror_mode": {
    "name": "ipython",
    "version": 3
   },
   "file_extension": ".py",
   "mimetype": "text/x-python",
   "name": "python",
   "nbconvert_exporter": "python",
   "pygments_lexer": "ipython3",
   "version": "3.10.12"
  }
 },
 "nbformat": 4,
 "nbformat_minor": 4
}
